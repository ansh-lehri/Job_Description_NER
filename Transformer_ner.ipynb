{
  "nbformat": 4,
  "nbformat_minor": 0,
  "metadata": {
    "colab": {
      "name": "Transformer_ner.ipynb",
      "provenance": [],
      "collapsed_sections": [],
      "machine_shape": "hm"
    },
    "kernelspec": {
      "name": "python3",
      "display_name": "Python 3"
    },
    "language_info": {
      "name": "python"
    }
  },
  "cells": [
    {
      "cell_type": "code",
      "metadata": {
        "colab": {
          "base_uri": "https://localhost:8080/",
          "height": 35
        },
        "id": "4DFZgEzBS30V",
        "outputId": "eeaaa805-8775-4325-d9ae-907fad5902d1"
      },
      "source": [
        "# checking if gpu is active\n",
        "import tensorflow as tf\n",
        "tf.test.gpu_device_name()"
      ],
      "execution_count": null,
      "outputs": [
        {
          "output_type": "execute_result",
          "data": {
            "application/vnd.google.colaboratory.intrinsic+json": {
              "type": "string"
            },
            "text/plain": [
              "'/device:GPU:0'"
            ]
          },
          "metadata": {
            "tags": []
          },
          "execution_count": 1
        }
      ]
    },
    {
      "cell_type": "code",
      "metadata": {
        "colab": {
          "base_uri": "https://localhost:8080/"
        },
        "id": "teukHYOWKl5T",
        "outputId": "17b4b2fe-4e58-4d68-956f-d06632ba5112"
      },
      "source": [
        "from google.colab import drive \n",
        "drive.mount('/content/gdrive')"
      ],
      "execution_count": null,
      "outputs": [
        {
          "output_type": "stream",
          "text": [
            "Mounted at /content/gdrive\n"
          ],
          "name": "stdout"
        }
      ]
    },
    {
      "cell_type": "code",
      "metadata": {
        "id": "QST7bpsPj1F8"
      },
      "source": [
        "# installing spacy, spacy-trnsfromers, nvidia and all other dependencies needed"
      ],
      "execution_count": null,
      "outputs": []
    },
    {
      "cell_type": "code",
      "metadata": {
        "colab": {
          "base_uri": "https://localhost:8080/"
        },
        "id": "BYZXy9lWKpL0",
        "outputId": "8fb6239f-2752-47e7-f87d-01206b3b9c75"
      },
      "source": [
        "!wget https://developer.nvidia.com/compute/cuda/9.2/Prod/local_installers/cuda-repo-ubuntu1604-9-2-local_9.2.88-1_amd64 -O cuda-repo-ubuntu1604–9–2-local_9.2.88–1_amd64.deb"
      ],
      "execution_count": null,
      "outputs": [
        {
          "output_type": "stream",
          "text": [
            "--2021-07-08 13:26:47--  https://developer.nvidia.com/compute/cuda/9.2/Prod/local_installers/cuda-repo-ubuntu1604-9-2-local_9.2.88-1_amd64\n",
            "Resolving developer.nvidia.com (developer.nvidia.com)... 152.199.16.29\n",
            "Connecting to developer.nvidia.com (developer.nvidia.com)|152.199.16.29|:443... connected.\n",
            "HTTP request sent, awaiting response... 301 Moved Permanently\n",
            "Location: https://developer.nvidia.com/compute/cuda/9.2/prod/local_installers/cuda-repo-ubuntu1604-9-2-local_9.2.88-1_amd64 [following]\n",
            "--2021-07-08 13:26:47--  https://developer.nvidia.com/compute/cuda/9.2/prod/local_installers/cuda-repo-ubuntu1604-9-2-local_9.2.88-1_amd64\n",
            "Reusing existing connection to developer.nvidia.com:443.\n",
            "HTTP request sent, awaiting response... 302 Found\n",
            "Location: https://developer.download.nvidia.com/compute/cuda/9.2/secure/Prod/local_installers/cuda-repo-ubuntu1604-9-2-local_9.2.88-1_amd64.deb?DVB-XFnTmvp12dk7eK0PKWtjZNXryGVItOFYdeTBVmH9IPZyx9sK7uuIet_zu3qJwQHRDp4NJKQL-knPtFyxe9c1Q-7LhP5s7neM4jD_gpNbueR5lbWYyW4a6O1EwxS9gcKGYFqP21d9l7OsfMxx0X-VyPqZ1tabTVwqRCct0su2iieYNAslv7pkwO1dDDRu0Ljjg-PmIndz83kPtC0 [following]\n",
            "--2021-07-08 13:26:48--  https://developer.download.nvidia.com/compute/cuda/9.2/secure/Prod/local_installers/cuda-repo-ubuntu1604-9-2-local_9.2.88-1_amd64.deb?DVB-XFnTmvp12dk7eK0PKWtjZNXryGVItOFYdeTBVmH9IPZyx9sK7uuIet_zu3qJwQHRDp4NJKQL-knPtFyxe9c1Q-7LhP5s7neM4jD_gpNbueR5lbWYyW4a6O1EwxS9gcKGYFqP21d9l7OsfMxx0X-VyPqZ1tabTVwqRCct0su2iieYNAslv7pkwO1dDDRu0Ljjg-PmIndz83kPtC0\n",
            "Resolving developer.download.nvidia.com (developer.download.nvidia.com)... 152.199.20.126\n",
            "Connecting to developer.download.nvidia.com (developer.download.nvidia.com)|152.199.20.126|:443... connected.\n",
            "HTTP request sent, awaiting response... 200 OK\n",
            "Length: 1267391958 (1.2G) [application/x-deb]\n",
            "Saving to: ‘cuda-repo-ubuntu1604–9–2-local_9.2.88–1_amd64.deb’\n",
            "\n",
            "cuda-repo-ubuntu160 100%[===================>]   1.18G  56.3MB/s    in 20s     \n",
            "\n",
            "2021-07-08 13:27:08 (60.5 MB/s) - ‘cuda-repo-ubuntu1604–9–2-local_9.2.88–1_amd64.deb’ saved [1267391958/1267391958]\n",
            "\n"
          ],
          "name": "stdout"
        }
      ]
    },
    {
      "cell_type": "code",
      "metadata": {
        "colab": {
          "base_uri": "https://localhost:8080/"
        },
        "id": "eWxjDr8kNNaX",
        "outputId": "e6031089-0f24-4763-e635-2545b17a7da1"
      },
      "source": [
        "!dpkg -i cuda-repo-ubuntu1604–9–2-local_9.2.88–1_amd64.deb"
      ],
      "execution_count": null,
      "outputs": [
        {
          "output_type": "stream",
          "text": [
            "Selecting previously unselected package cuda-repo-ubuntu1604-9-2-local.\n",
            "(Reading database ... 160815 files and directories currently installed.)\n",
            "Preparing to unpack cuda-repo-ubuntu1604–9–2-local_9.2.88–1_amd64.deb ...\n",
            "Unpacking cuda-repo-ubuntu1604-9-2-local (9.2.88-1) ...\n",
            "Setting up cuda-repo-ubuntu1604-9-2-local (9.2.88-1) ...\n"
          ],
          "name": "stdout"
        }
      ]
    },
    {
      "cell_type": "code",
      "metadata": {
        "colab": {
          "base_uri": "https://localhost:8080/"
        },
        "id": "zaGnHUNQNUPN",
        "outputId": "9ac18d27-4bdf-4e1c-e126-39c1b0fc5779"
      },
      "source": [
        "!apt-key add /var/cuda-repo-9–2-local/7fa2af80.pub\n",
        "!apt-get update\n",
        "!apt-get install cuda-9.2"
      ],
      "execution_count": null,
      "outputs": [
        {
          "output_type": "stream",
          "text": [
            "gpg: can't open '/var/cuda-repo-9–2-local/7fa2af80.pub': No such file or directory\n",
            "Get:1 file:/var/cuda-repo-9-2-local  InRelease\n",
            "Ign:1 file:/var/cuda-repo-9-2-local  InRelease\n",
            "Get:2 file:/var/cuda-repo-9-2-local  Release [574 B]\n",
            "Get:2 file:/var/cuda-repo-9-2-local  Release [574 B]\n",
            "Get:3 file:/var/cuda-repo-9-2-local  Release.gpg [819 B]\n",
            "Get:3 file:/var/cuda-repo-9-2-local  Release.gpg [819 B]\n",
            "Hit:4 http://archive.ubuntu.com/ubuntu bionic InRelease\n",
            "Get:5 http://ppa.launchpad.net/c2d4u.team/c2d4u4.0+/ubuntu bionic InRelease [15.9 kB]\n",
            "Get:6 http://archive.ubuntu.com/ubuntu bionic-updates InRelease [88.7 kB]\n",
            "Get:7 https://cloud.r-project.org/bin/linux/ubuntu bionic-cran40/ InRelease [3,626 B]\n",
            "Hit:8 http://ppa.launchpad.net/cran/libgit2/ubuntu bionic InRelease\n",
            "Get:9 http://archive.ubuntu.com/ubuntu bionic-backports InRelease [74.6 kB]\n",
            "Get:10 http://ppa.launchpad.net/deadsnakes/ppa/ubuntu bionic InRelease [15.9 kB]\n",
            "Hit:11 http://ppa.launchpad.net/graphics-drivers/ppa/ubuntu bionic InRelease\n",
            "Get:12 http://security.ubuntu.com/ubuntu bionic-security InRelease [88.7 kB]\n",
            "Ign:13 https://developer.download.nvidia.com/compute/cuda/repos/ubuntu1804/x86_64  InRelease\n",
            "Get:14 file:/var/cuda-repo-9-2-local  Packages [18.7 kB]\n",
            "Ign:15 https://developer.download.nvidia.com/compute/machine-learning/repos/ubuntu1804/x86_64  InRelease\n",
            "Get:16 https://developer.download.nvidia.com/compute/cuda/repos/ubuntu1804/x86_64  Release [697 B]\n",
            "Hit:17 https://developer.download.nvidia.com/compute/machine-learning/repos/ubuntu1804/x86_64  Release\n",
            "Get:18 https://developer.download.nvidia.com/compute/cuda/repos/ubuntu1804/x86_64  Release.gpg [836 B]\n",
            "Get:19 http://ppa.launchpad.net/c2d4u.team/c2d4u4.0+/ubuntu bionic/main Sources [1,780 kB]\n",
            "Get:20 http://ppa.launchpad.net/c2d4u.team/c2d4u4.0+/ubuntu bionic/main amd64 Packages [910 kB]\n",
            "Get:21 http://archive.ubuntu.com/ubuntu bionic-updates/main amd64 Packages [2,658 kB]\n",
            "Get:22 http://archive.ubuntu.com/ubuntu bionic-updates/universe amd64 Packages [2,188 kB]\n",
            "Get:23 http://ppa.launchpad.net/deadsnakes/ppa/ubuntu bionic/main amd64 Packages [40.8 kB]\n",
            "Ign:25 https://developer.download.nvidia.com/compute/cuda/repos/ubuntu1804/x86_64  Packages\n",
            "Get:25 https://developer.download.nvidia.com/compute/cuda/repos/ubuntu1804/x86_64  Packages [637 kB]\n",
            "Get:26 http://security.ubuntu.com/ubuntu bionic-security/universe amd64 Packages [1,418 kB]\n",
            "Get:27 http://security.ubuntu.com/ubuntu bionic-security/main amd64 Packages [2,221 kB]\n",
            "Fetched 12.1 MB in 3s (4,110 kB/s)\n",
            "Reading package lists... Done\n",
            "Reading package lists... Done\n",
            "Building dependency tree       \n",
            "Reading state information... Done\n",
            "Note, selecting 'cuda-9-2' for regex 'cuda-9.2'\n",
            "Note, selecting 'libcuda-9.2-1' for regex 'cuda-9.2'\n",
            "The following additional packages will be installed:\n",
            "  cuda-command-line-tools-9-2 cuda-compiler-9-2 cuda-cublas-9-2\n",
            "  cuda-cublas-dev-9-2 cuda-cudart-9-2 cuda-cudart-dev-9-2 cuda-cufft-9-2\n",
            "  cuda-cufft-dev-9-2 cuda-cuobjdump-9-2 cuda-cupti-9-2 cuda-curand-9-2\n",
            "  cuda-curand-dev-9-2 cuda-cusolver-9-2 cuda-cusolver-dev-9-2\n",
            "  cuda-cusparse-9-2 cuda-cusparse-dev-9-2 cuda-demo-suite-9-2\n",
            "  cuda-documentation-9-2 cuda-driver-dev-9-2 cuda-gdb-9-2\n",
            "  cuda-gpu-library-advisor-9-2 cuda-libraries-9-2 cuda-libraries-dev-9-2\n",
            "  cuda-license-9-2 cuda-memcheck-9-2 cuda-misc-headers-9-2 cuda-npp-9-2\n",
            "  cuda-npp-dev-9-2 cuda-nsight-9-2 cuda-nvcc-9-2 cuda-nvdisasm-9-2\n",
            "  cuda-nvgraph-9-2 cuda-nvgraph-dev-9-2 cuda-nvml-dev-9-2 cuda-nvprof-9-2\n",
            "  cuda-nvprune-9-2 cuda-nvrtc-9-2 cuda-nvrtc-dev-9-2 cuda-nvtx-9-2\n",
            "  cuda-nvvp-9-2 cuda-runtime-9-2 cuda-samples-9-2 cuda-toolkit-9-2\n",
            "  cuda-tools-9-2 cuda-visual-tools-9-2\n",
            "The following NEW packages will be installed:\n",
            "  cuda-9-2 cuda-command-line-tools-9-2 cuda-compiler-9-2 cuda-cublas-9-2\n",
            "  cuda-cublas-dev-9-2 cuda-cudart-9-2 cuda-cudart-dev-9-2 cuda-cufft-9-2\n",
            "  cuda-cufft-dev-9-2 cuda-cuobjdump-9-2 cuda-cupti-9-2 cuda-curand-9-2\n",
            "  cuda-curand-dev-9-2 cuda-cusolver-9-2 cuda-cusolver-dev-9-2\n",
            "  cuda-cusparse-9-2 cuda-cusparse-dev-9-2 cuda-demo-suite-9-2\n",
            "  cuda-documentation-9-2 cuda-driver-dev-9-2 cuda-gdb-9-2\n",
            "  cuda-gpu-library-advisor-9-2 cuda-libraries-9-2 cuda-libraries-dev-9-2\n",
            "  cuda-license-9-2 cuda-memcheck-9-2 cuda-misc-headers-9-2 cuda-npp-9-2\n",
            "  cuda-npp-dev-9-2 cuda-nsight-9-2 cuda-nvcc-9-2 cuda-nvdisasm-9-2\n",
            "  cuda-nvgraph-9-2 cuda-nvgraph-dev-9-2 cuda-nvml-dev-9-2 cuda-nvprof-9-2\n",
            "  cuda-nvprune-9-2 cuda-nvrtc-9-2 cuda-nvrtc-dev-9-2 cuda-nvtx-9-2\n",
            "  cuda-nvvp-9-2 cuda-runtime-9-2 cuda-samples-9-2 cuda-toolkit-9-2\n",
            "  cuda-tools-9-2 cuda-visual-tools-9-2\n",
            "0 upgraded, 46 newly installed, 0 to remove and 58 not upgraded.\n",
            "Need to get 0 B/1,146 MB of archives.\n",
            "After this operation, 2,642 MB of additional disk space will be used.\n",
            "Get:1 file:/var/cuda-repo-9-2-local  cuda-license-9-2 9.2.88-1 [22.0 kB]\n",
            "Get:2 file:/var/cuda-repo-9-2-local  cuda-misc-headers-9-2 9.2.88-1 [640 kB]\n",
            "Get:3 file:/var/cuda-repo-9-2-local  cuda-nvcc-9-2 9.2.88-1 [15.4 MB]\n",
            "Get:4 file:/var/cuda-repo-9-2-local  cuda-cuobjdump-9-2 9.2.88-1 [129 kB]\n",
            "Get:5 file:/var/cuda-repo-9-2-local  cuda-nvprune-9-2 9.2.88-1 [36.7 kB]\n",
            "Get:6 file:/var/cuda-repo-9-2-local  cuda-compiler-9-2 9.2.88-1 [2,518 B]\n",
            "Get:7 file:/var/cuda-repo-9-2-local  cuda-nvdisasm-9-2 9.2.88-1 [17.4 MB]\n",
            "Get:8 file:/var/cuda-repo-9-2-local  cuda-gdb-9-2 9.2.88-1 [2,765 kB]\n",
            "Get:9 file:/var/cuda-repo-9-2-local  cuda-nvprof-9-2 9.2.88-1 [4,737 kB]\n",
            "Get:10 file:/var/cuda-repo-9-2-local  cuda-memcheck-9-2 9.2.88-1 [137 kB]\n",
            "Get:11 file:/var/cuda-repo-9-2-local  cuda-cudart-9-2 9.2.88-1 [97.8 kB]\n",
            "Get:12 file:/var/cuda-repo-9-2-local  cuda-driver-dev-9-2 9.2.88-1 [11.1 kB]\n",
            "Get:13 file:/var/cuda-repo-9-2-local  cuda-cudart-dev-9-2 9.2.88-1 [718 kB]\n",
            "Get:14 file:/var/cuda-repo-9-2-local  cuda-cupti-9-2 9.2.88-1 [1,537 kB]\n",
            "Get:15 file:/var/cuda-repo-9-2-local  cuda-gpu-library-advisor-9-2 9.2.88-1 [1,002 kB]\n",
            "Get:16 file:/var/cuda-repo-9-2-local  cuda-nvtx-9-2 9.2.88-1 [24.3 kB]\n",
            "Get:17 file:/var/cuda-repo-9-2-local  cuda-command-line-tools-9-2 9.2.88-1 [26.3 kB]\n",
            "Get:18 file:/var/cuda-repo-9-2-local  cuda-nsight-9-2 9.2.88-1 [2,580 B]\n",
            "Get:19 file:/var/cuda-repo-9-2-local  cuda-nvvp-9-2 9.2.88-1 [2,528 B]\n",
            "Get:20 file:/var/cuda-repo-9-2-local  cuda-nvrtc-9-2 9.2.88-1 [5,908 kB]\n",
            "Get:21 file:/var/cuda-repo-9-2-local  cuda-nvrtc-dev-9-2 9.2.88-1 [9,318 B]\n",
            "Get:22 file:/var/cuda-repo-9-2-local  cuda-cusolver-9-2 9.2.88-1 [31.1 MB]\n",
            "Get:23 file:/var/cuda-repo-9-2-local  cuda-cusolver-dev-9-2 9.2.88-1 [8,184 kB]\n",
            "Get:24 file:/var/cuda-repo-9-2-local  cuda-cublas-9-2 9.2.88-1 [24.9 MB]\n",
            "Get:25 file:/var/cuda-repo-9-2-local  cuda-cublas-dev-9-2 9.2.88-1 [49.1 MB]\n",
            "Get:26 file:/var/cuda-repo-9-2-local  cuda-cufft-9-2 9.2.88-1 [51.5 MB]\n",
            "Get:27 file:/var/cuda-repo-9-2-local  cuda-cufft-dev-9-2 9.2.88-1 [106 MB]\n",
            "Get:28 file:/var/cuda-repo-9-2-local  cuda-curand-9-2 9.2.88-1 [38.8 MB]\n",
            "Get:29 file:/var/cuda-repo-9-2-local  cuda-curand-dev-9-2 9.2.88-1 [57.8 MB]\n",
            "Get:30 file:/var/cuda-repo-9-2-local  cuda-cusparse-9-2 9.2.88-1 [27.6 MB]\n",
            "Get:31 file:/var/cuda-repo-9-2-local  cuda-cusparse-dev-9-2 9.2.88-1 [27.8 MB]\n",
            "Get:32 file:/var/cuda-repo-9-2-local  cuda-npp-9-2 9.2.88-1 [52.1 MB]\n",
            "Get:33 file:/var/cuda-repo-9-2-local  cuda-npp-dev-9-2 9.2.88-1 [52.0 MB]\n",
            "Get:34 file:/var/cuda-repo-9-2-local  cuda-nvml-dev-9-2 9.2.88-1 [49.4 kB]\n",
            "Get:35 file:/var/cuda-repo-9-2-local  cuda-nvgraph-9-2 9.2.88-1 [11.7 MB]\n",
            "Get:36 file:/var/cuda-repo-9-2-local  cuda-nvgraph-dev-9-2 9.2.88-1 [30.0 MB]\n",
            "Get:37 file:/var/cuda-repo-9-2-local  cuda-visual-tools-9-2 9.2.88-1 [396 MB]\n",
            "Get:38 file:/var/cuda-repo-9-2-local  cuda-tools-9-2 9.2.88-1 [2,486 B]\n",
            "Get:39 file:/var/cuda-repo-9-2-local  cuda-samples-9-2 9.2.88-1 [76.3 MB]\n",
            "Get:40 file:/var/cuda-repo-9-2-local  cuda-documentation-9-2 9.2.88-1 [50.4 MB]\n",
            "Get:41 file:/var/cuda-repo-9-2-local  cuda-libraries-dev-9-2 9.2.88-1 [2,598 B]\n",
            "Get:42 file:/var/cuda-repo-9-2-local  cuda-toolkit-9-2 9.2.88-1 [2,828 B]\n",
            "Get:43 file:/var/cuda-repo-9-2-local  cuda-libraries-9-2 9.2.88-1 [2,568 B]\n",
            "Get:44 file:/var/cuda-repo-9-2-local  cuda-runtime-9-2 9.2.88-1 [2,530 B]\n",
            "Get:45 file:/var/cuda-repo-9-2-local  cuda-demo-suite-9-2 9.2.88-1 [3,889 kB]\n",
            "Get:46 file:/var/cuda-repo-9-2-local  cuda-9-2 9.2.88-1 [2,560 B]\n",
            "Extracting templates from packages: 100%\n",
            "Selecting previously unselected package cuda-license-9-2.\n",
            "(Reading database ... 160888 files and directories currently installed.)\n",
            "Preparing to unpack .../00-cuda-license-9-2_9.2.88-1_amd64.deb ...\n",
            "Unpacking cuda-license-9-2 (9.2.88-1) ...\n",
            "Selecting previously unselected package cuda-misc-headers-9-2.\n",
            "Preparing to unpack .../01-cuda-misc-headers-9-2_9.2.88-1_amd64.deb ...\n",
            "Unpacking cuda-misc-headers-9-2 (9.2.88-1) ...\n",
            "Selecting previously unselected package cuda-nvcc-9-2.\n",
            "Preparing to unpack .../02-cuda-nvcc-9-2_9.2.88-1_amd64.deb ...\n",
            "Unpacking cuda-nvcc-9-2 (9.2.88-1) ...\n",
            "Selecting previously unselected package cuda-cuobjdump-9-2.\n",
            "Preparing to unpack .../03-cuda-cuobjdump-9-2_9.2.88-1_amd64.deb ...\n",
            "Unpacking cuda-cuobjdump-9-2 (9.2.88-1) ...\n",
            "Selecting previously unselected package cuda-nvprune-9-2.\n",
            "Preparing to unpack .../04-cuda-nvprune-9-2_9.2.88-1_amd64.deb ...\n",
            "Unpacking cuda-nvprune-9-2 (9.2.88-1) ...\n",
            "Selecting previously unselected package cuda-compiler-9-2.\n",
            "Preparing to unpack .../05-cuda-compiler-9-2_9.2.88-1_amd64.deb ...\n",
            "Unpacking cuda-compiler-9-2 (9.2.88-1) ...\n",
            "Selecting previously unselected package cuda-nvdisasm-9-2.\n",
            "Preparing to unpack .../06-cuda-nvdisasm-9-2_9.2.88-1_amd64.deb ...\n",
            "Unpacking cuda-nvdisasm-9-2 (9.2.88-1) ...\n",
            "Selecting previously unselected package cuda-gdb-9-2.\n",
            "Preparing to unpack .../07-cuda-gdb-9-2_9.2.88-1_amd64.deb ...\n",
            "Unpacking cuda-gdb-9-2 (9.2.88-1) ...\n",
            "Selecting previously unselected package cuda-nvprof-9-2.\n",
            "Preparing to unpack .../08-cuda-nvprof-9-2_9.2.88-1_amd64.deb ...\n",
            "Unpacking cuda-nvprof-9-2 (9.2.88-1) ...\n",
            "Selecting previously unselected package cuda-memcheck-9-2.\n",
            "Preparing to unpack .../09-cuda-memcheck-9-2_9.2.88-1_amd64.deb ...\n",
            "Unpacking cuda-memcheck-9-2 (9.2.88-1) ...\n",
            "Selecting previously unselected package cuda-cudart-9-2.\n",
            "Preparing to unpack .../10-cuda-cudart-9-2_9.2.88-1_amd64.deb ...\n",
            "Unpacking cuda-cudart-9-2 (9.2.88-1) ...\n",
            "Selecting previously unselected package cuda-driver-dev-9-2.\n",
            "Preparing to unpack .../11-cuda-driver-dev-9-2_9.2.88-1_amd64.deb ...\n",
            "Unpacking cuda-driver-dev-9-2 (9.2.88-1) ...\n",
            "Selecting previously unselected package cuda-cudart-dev-9-2.\n",
            "Preparing to unpack .../12-cuda-cudart-dev-9-2_9.2.88-1_amd64.deb ...\n",
            "Unpacking cuda-cudart-dev-9-2 (9.2.88-1) ...\n",
            "Selecting previously unselected package cuda-cupti-9-2.\n",
            "Preparing to unpack .../13-cuda-cupti-9-2_9.2.88-1_amd64.deb ...\n",
            "Unpacking cuda-cupti-9-2 (9.2.88-1) ...\n",
            "Selecting previously unselected package cuda-gpu-library-advisor-9-2.\n",
            "Preparing to unpack .../14-cuda-gpu-library-advisor-9-2_9.2.88-1_amd64.deb ...\n",
            "Unpacking cuda-gpu-library-advisor-9-2 (9.2.88-1) ...\n",
            "Selecting previously unselected package cuda-nvtx-9-2.\n",
            "Preparing to unpack .../15-cuda-nvtx-9-2_9.2.88-1_amd64.deb ...\n",
            "Unpacking cuda-nvtx-9-2 (9.2.88-1) ...\n",
            "Selecting previously unselected package cuda-command-line-tools-9-2.\n",
            "Preparing to unpack .../16-cuda-command-line-tools-9-2_9.2.88-1_amd64.deb ...\n",
            "Unpacking cuda-command-line-tools-9-2 (9.2.88-1) ...\n",
            "Selecting previously unselected package cuda-nsight-9-2.\n",
            "Preparing to unpack .../17-cuda-nsight-9-2_9.2.88-1_amd64.deb ...\n",
            "Unpacking cuda-nsight-9-2 (9.2.88-1) ...\n",
            "Selecting previously unselected package cuda-nvvp-9-2.\n",
            "Preparing to unpack .../18-cuda-nvvp-9-2_9.2.88-1_amd64.deb ...\n",
            "Unpacking cuda-nvvp-9-2 (9.2.88-1) ...\n",
            "Selecting previously unselected package cuda-nvrtc-9-2.\n",
            "Preparing to unpack .../19-cuda-nvrtc-9-2_9.2.88-1_amd64.deb ...\n",
            "Unpacking cuda-nvrtc-9-2 (9.2.88-1) ...\n",
            "Selecting previously unselected package cuda-nvrtc-dev-9-2.\n",
            "Preparing to unpack .../20-cuda-nvrtc-dev-9-2_9.2.88-1_amd64.deb ...\n",
            "Unpacking cuda-nvrtc-dev-9-2 (9.2.88-1) ...\n",
            "Selecting previously unselected package cuda-cusolver-9-2.\n",
            "Preparing to unpack .../21-cuda-cusolver-9-2_9.2.88-1_amd64.deb ...\n",
            "Unpacking cuda-cusolver-9-2 (9.2.88-1) ...\n",
            "Selecting previously unselected package cuda-cusolver-dev-9-2.\n",
            "Preparing to unpack .../22-cuda-cusolver-dev-9-2_9.2.88-1_amd64.deb ...\n",
            "Unpacking cuda-cusolver-dev-9-2 (9.2.88-1) ...\n",
            "Selecting previously unselected package cuda-cublas-9-2.\n",
            "Preparing to unpack .../23-cuda-cublas-9-2_9.2.88-1_amd64.deb ...\n",
            "Unpacking cuda-cublas-9-2 (9.2.88-1) ...\n",
            "Selecting previously unselected package cuda-cublas-dev-9-2.\n",
            "Preparing to unpack .../24-cuda-cublas-dev-9-2_9.2.88-1_amd64.deb ...\n",
            "Unpacking cuda-cublas-dev-9-2 (9.2.88-1) ...\n",
            "Selecting previously unselected package cuda-cufft-9-2.\n",
            "Preparing to unpack .../25-cuda-cufft-9-2_9.2.88-1_amd64.deb ...\n",
            "Unpacking cuda-cufft-9-2 (9.2.88-1) ...\n",
            "Selecting previously unselected package cuda-cufft-dev-9-2.\n",
            "Preparing to unpack .../26-cuda-cufft-dev-9-2_9.2.88-1_amd64.deb ...\n",
            "Unpacking cuda-cufft-dev-9-2 (9.2.88-1) ...\n",
            "Selecting previously unselected package cuda-curand-9-2.\n",
            "Preparing to unpack .../27-cuda-curand-9-2_9.2.88-1_amd64.deb ...\n",
            "Unpacking cuda-curand-9-2 (9.2.88-1) ...\n",
            "Selecting previously unselected package cuda-curand-dev-9-2.\n",
            "Preparing to unpack .../28-cuda-curand-dev-9-2_9.2.88-1_amd64.deb ...\n",
            "Unpacking cuda-curand-dev-9-2 (9.2.88-1) ...\n",
            "Selecting previously unselected package cuda-cusparse-9-2.\n",
            "Preparing to unpack .../29-cuda-cusparse-9-2_9.2.88-1_amd64.deb ...\n",
            "Unpacking cuda-cusparse-9-2 (9.2.88-1) ...\n",
            "Selecting previously unselected package cuda-cusparse-dev-9-2.\n",
            "Preparing to unpack .../30-cuda-cusparse-dev-9-2_9.2.88-1_amd64.deb ...\n",
            "Unpacking cuda-cusparse-dev-9-2 (9.2.88-1) ...\n",
            "Selecting previously unselected package cuda-npp-9-2.\n",
            "Preparing to unpack .../31-cuda-npp-9-2_9.2.88-1_amd64.deb ...\n",
            "Unpacking cuda-npp-9-2 (9.2.88-1) ...\n",
            "Selecting previously unselected package cuda-npp-dev-9-2.\n",
            "Preparing to unpack .../32-cuda-npp-dev-9-2_9.2.88-1_amd64.deb ...\n",
            "Unpacking cuda-npp-dev-9-2 (9.2.88-1) ...\n",
            "Selecting previously unselected package cuda-nvml-dev-9-2.\n",
            "Preparing to unpack .../33-cuda-nvml-dev-9-2_9.2.88-1_amd64.deb ...\n",
            "Unpacking cuda-nvml-dev-9-2 (9.2.88-1) ...\n",
            "Selecting previously unselected package cuda-nvgraph-9-2.\n",
            "Preparing to unpack .../34-cuda-nvgraph-9-2_9.2.88-1_amd64.deb ...\n",
            "Unpacking cuda-nvgraph-9-2 (9.2.88-1) ...\n",
            "Selecting previously unselected package cuda-nvgraph-dev-9-2.\n",
            "Preparing to unpack .../35-cuda-nvgraph-dev-9-2_9.2.88-1_amd64.deb ...\n",
            "Unpacking cuda-nvgraph-dev-9-2 (9.2.88-1) ...\n",
            "Selecting previously unselected package cuda-visual-tools-9-2.\n",
            "Preparing to unpack .../36-cuda-visual-tools-9-2_9.2.88-1_amd64.deb ...\n",
            "Unpacking cuda-visual-tools-9-2 (9.2.88-1) ...\n",
            "Selecting previously unselected package cuda-tools-9-2.\n",
            "Preparing to unpack .../37-cuda-tools-9-2_9.2.88-1_amd64.deb ...\n",
            "Unpacking cuda-tools-9-2 (9.2.88-1) ...\n",
            "Selecting previously unselected package cuda-samples-9-2.\n",
            "Preparing to unpack .../38-cuda-samples-9-2_9.2.88-1_amd64.deb ...\n",
            "Unpacking cuda-samples-9-2 (9.2.88-1) ...\n",
            "Selecting previously unselected package cuda-documentation-9-2.\n",
            "Preparing to unpack .../39-cuda-documentation-9-2_9.2.88-1_amd64.deb ...\n",
            "Unpacking cuda-documentation-9-2 (9.2.88-1) ...\n",
            "Selecting previously unselected package cuda-libraries-dev-9-2.\n",
            "Preparing to unpack .../40-cuda-libraries-dev-9-2_9.2.88-1_amd64.deb ...\n",
            "Unpacking cuda-libraries-dev-9-2 (9.2.88-1) ...\n",
            "Selecting previously unselected package cuda-toolkit-9-2.\n",
            "Preparing to unpack .../41-cuda-toolkit-9-2_9.2.88-1_amd64.deb ...\n",
            "Unpacking cuda-toolkit-9-2 (9.2.88-1) ...\n",
            "Selecting previously unselected package cuda-libraries-9-2.\n",
            "Preparing to unpack .../42-cuda-libraries-9-2_9.2.88-1_amd64.deb ...\n",
            "Unpacking cuda-libraries-9-2 (9.2.88-1) ...\n",
            "Selecting previously unselected package cuda-runtime-9-2.\n",
            "Preparing to unpack .../43-cuda-runtime-9-2_9.2.88-1_amd64.deb ...\n",
            "Unpacking cuda-runtime-9-2 (9.2.88-1) ...\n",
            "Selecting previously unselected package cuda-demo-suite-9-2.\n",
            "Preparing to unpack .../44-cuda-demo-suite-9-2_9.2.88-1_amd64.deb ...\n",
            "Unpacking cuda-demo-suite-9-2 (9.2.88-1) ...\n",
            "Selecting previously unselected package cuda-9-2.\n",
            "Preparing to unpack .../45-cuda-9-2_9.2.88-1_amd64.deb ...\n",
            "Unpacking cuda-9-2 (9.2.88-1) ...\n",
            "Setting up cuda-license-9-2 (9.2.88-1) ...\n",
            "*** LICENSE AGREEMENT ***\n",
            "By using this software you agree to fully comply with the terms and \n",
            "conditions of the EULA (End User License Agreement). The EULA is located\n",
            "at /usr/local/cuda-9.2/doc/EULA.txt. The EULA can also be found at\n",
            "http://docs.nvidia.com/cuda/eula/index.html. If you do not agree to the\n",
            "terms and conditions of the EULA, do not use the software.\n",
            "\n",
            "Setting up cuda-nvprune-9-2 (9.2.88-1) ...\n",
            "Setting up cuda-cudart-9-2 (9.2.88-1) ...\n",
            "Setting up cuda-nvprof-9-2 (9.2.88-1) ...\n",
            "Setting up cuda-nvrtc-9-2 (9.2.88-1) ...\n",
            "Setting up cuda-nvtx-9-2 (9.2.88-1) ...\n",
            "Setting up cuda-cusolver-9-2 (9.2.88-1) ...\n",
            "Setting up cuda-nvml-dev-9-2 (9.2.88-1) ...\n",
            "Setting up cuda-cufft-9-2 (9.2.88-1) ...\n",
            "Setting up cuda-npp-9-2 (9.2.88-1) ...\n",
            "Setting up cuda-misc-headers-9-2 (9.2.88-1) ...\n",
            "Setting up cuda-memcheck-9-2 (9.2.88-1) ...\n",
            "Setting up cuda-npp-dev-9-2 (9.2.88-1) ...\n",
            "Setting up cuda-nvdisasm-9-2 (9.2.88-1) ...\n",
            "Setting up cuda-nvvp-9-2 (9.2.88-1) ...\n",
            "Setting up cuda-nvrtc-dev-9-2 (9.2.88-1) ...\n",
            "Setting up cuda-driver-dev-9-2 (9.2.88-1) ...\n",
            "Setting up cuda-curand-9-2 (9.2.88-1) ...\n",
            "Setting up cuda-cusolver-dev-9-2 (9.2.88-1) ...\n",
            "Setting up cuda-nsight-9-2 (9.2.88-1) ...\n",
            "Setting up cuda-cublas-9-2 (9.2.88-1) ...\n",
            "Setting up cuda-cuobjdump-9-2 (9.2.88-1) ...\n",
            "Setting up cuda-cusparse-9-2 (9.2.88-1) ...\n",
            "Setting up cuda-nvgraph-9-2 (9.2.88-1) ...\n",
            "Setting up cuda-gpu-library-advisor-9-2 (9.2.88-1) ...\n",
            "Setting up cuda-gdb-9-2 (9.2.88-1) ...\n",
            "Setting up cuda-cudart-dev-9-2 (9.2.88-1) ...\n",
            "Setting up cuda-cufft-dev-9-2 (9.2.88-1) ...\n",
            "Setting up cuda-libraries-9-2 (9.2.88-1) ...\n",
            "Setting up cuda-cusparse-dev-9-2 (9.2.88-1) ...\n",
            "Setting up cuda-runtime-9-2 (9.2.88-1) ...\n",
            "Setting up cuda-nvcc-9-2 (9.2.88-1) ...\n",
            "Setting up cuda-cupti-9-2 (9.2.88-1) ...\n",
            "Setting up cuda-cublas-dev-9-2 (9.2.88-1) ...\n",
            "Setting up cuda-nvgraph-dev-9-2 (9.2.88-1) ...\n",
            "Setting up cuda-command-line-tools-9-2 (9.2.88-1) ...\n",
            "Setting up cuda-curand-dev-9-2 (9.2.88-1) ...\n",
            "Setting up cuda-demo-suite-9-2 (9.2.88-1) ...\n",
            "Setting up cuda-visual-tools-9-2 (9.2.88-1) ...\n",
            "Setting up cuda-compiler-9-2 (9.2.88-1) ...\n",
            "Setting up cuda-libraries-dev-9-2 (9.2.88-1) ...\n",
            "Setting up cuda-samples-9-2 (9.2.88-1) ...\n",
            "Setting up cuda-documentation-9-2 (9.2.88-1) ...\n",
            "Setting up cuda-tools-9-2 (9.2.88-1) ...\n",
            "Setting up cuda-toolkit-9-2 (9.2.88-1) ...\n",
            "Setting up cuda-9-2 (9.2.88-1) ...\n",
            "Processing triggers for libc-bin (2.27-3ubuntu1.2) ...\n",
            "/sbin/ldconfig.real: /usr/local/lib/python3.7/dist-packages/ideep4py/lib/libmkldnn.so.0 is not a symbolic link\n",
            "\n"
          ],
          "name": "stdout"
        }
      ]
    },
    {
      "cell_type": "code",
      "metadata": {
        "colab": {
          "base_uri": "https://localhost:8080/"
        },
        "id": "oKC0fRvdNYNP",
        "outputId": "0c254301-0919-4697-88c5-0672ae8ab0f3"
      },
      "source": [
        " !nvcc --version"
      ],
      "execution_count": null,
      "outputs": [
        {
          "output_type": "stream",
          "text": [
            "nvcc: NVIDIA (R) Cuda compiler driver\n",
            "Copyright (c) 2005-2018 NVIDIA Corporation\n",
            "Built on Wed_Apr_11_23:16:29_CDT_2018\n",
            "Cuda compilation tools, release 9.2, V9.2.88\n"
          ],
          "name": "stdout"
        }
      ]
    },
    {
      "cell_type": "code",
      "metadata": {
        "id": "BviX--EvODS3"
      },
      "source": [
        ""
      ],
      "execution_count": 14,
      "outputs": []
    },
    {
      "cell_type": "code",
      "metadata": {
        "colab": {
          "base_uri": "https://localhost:8080/"
        },
        "id": "H45cvDTvOFoq",
        "outputId": "13b81b41-abc9-41ad-b402-fdb644603a0c"
      },
      "source": [
        "!pip --version\n",
        "!python3 --version"
      ],
      "execution_count": 9,
      "outputs": [
        {
          "output_type": "stream",
          "name": "stdout",
          "text": [
            "pip 21.1.3 from /usr/local/lib/python3.7/dist-packages/pip (python 3.7)\n",
            "Python 3.7.12\n"
          ]
        }
      ]
    },
    {
      "cell_type": "code",
      "metadata": {
        "colab": {
          "base_uri": "https://localhost:8080/"
        },
        "id": "Re-MR07cmz1j",
        "outputId": "3dc248a9-b58b-4538-d90e-c1a7d945542c"
      },
      "source": [
        "# installing spacy 3.0\n",
        "!pip install -U spacy"
      ],
      "execution_count": 10,
      "outputs": [
        {
          "output_type": "stream",
          "name": "stdout",
          "text": [
            "Requirement already satisfied: spacy in /usr/local/lib/python3.7/dist-packages (2.2.4)\n",
            "Collecting spacy\n",
            "  Downloading spacy-3.1.3-cp37-cp37m-manylinux_2_17_x86_64.manylinux2014_x86_64.whl (5.9 MB)\n",
            "\u001b[K     |████████████████████████████████| 5.9 MB 5.1 MB/s \n",
            "\u001b[?25hCollecting thinc<8.1.0,>=8.0.9\n",
            "  Downloading thinc-8.0.10-cp37-cp37m-manylinux_2_17_x86_64.manylinux2014_x86_64.whl (623 kB)\n",
            "\u001b[K     |████████████████████████████████| 623 kB 55.0 MB/s \n",
            "\u001b[?25hRequirement already satisfied: requests<3.0.0,>=2.13.0 in /usr/local/lib/python3.7/dist-packages (from spacy) (2.23.0)\n",
            "Collecting typer<0.5.0,>=0.3.0\n",
            "  Downloading typer-0.4.0-py3-none-any.whl (27 kB)\n",
            "Requirement already satisfied: preshed<3.1.0,>=3.0.2 in /usr/local/lib/python3.7/dist-packages (from spacy) (3.0.5)\n",
            "Collecting srsly<3.0.0,>=2.4.1\n",
            "  Downloading srsly-2.4.1-cp37-cp37m-manylinux2014_x86_64.whl (456 kB)\n",
            "\u001b[K     |████████████████████████████████| 456 kB 64.7 MB/s \n",
            "\u001b[?25hRequirement already satisfied: tqdm<5.0.0,>=4.38.0 in /usr/local/lib/python3.7/dist-packages (from spacy) (4.62.3)\n",
            "Requirement already satisfied: setuptools in /usr/local/lib/python3.7/dist-packages (from spacy) (57.4.0)\n",
            "Requirement already satisfied: typing-extensions<4.0.0.0,>=3.7.4 in /usr/local/lib/python3.7/dist-packages (from spacy) (3.7.4.3)\n",
            "Requirement already satisfied: cymem<2.1.0,>=2.0.2 in /usr/local/lib/python3.7/dist-packages (from spacy) (2.0.5)\n",
            "Collecting pathy>=0.3.5\n",
            "  Downloading pathy-0.6.0-py3-none-any.whl (42 kB)\n",
            "\u001b[K     |████████████████████████████████| 42 kB 1.2 MB/s \n",
            "\u001b[?25hRequirement already satisfied: murmurhash<1.1.0,>=0.28.0 in /usr/local/lib/python3.7/dist-packages (from spacy) (1.0.5)\n",
            "Collecting catalogue<2.1.0,>=2.0.6\n",
            "  Downloading catalogue-2.0.6-py3-none-any.whl (17 kB)\n",
            "Collecting pydantic!=1.8,!=1.8.1,<1.9.0,>=1.7.4\n",
            "  Downloading pydantic-1.8.2-cp37-cp37m-manylinux2014_x86_64.whl (10.1 MB)\n",
            "\u001b[K     |████████████████████████████████| 10.1 MB 41.3 MB/s \n",
            "\u001b[?25hRequirement already satisfied: packaging>=20.0 in /usr/local/lib/python3.7/dist-packages (from spacy) (21.0)\n",
            "Requirement already satisfied: jinja2 in /usr/local/lib/python3.7/dist-packages (from spacy) (2.11.3)\n",
            "Requirement already satisfied: numpy>=1.15.0 in /usr/local/lib/python3.7/dist-packages (from spacy) (1.19.5)\n",
            "Collecting spacy-legacy<3.1.0,>=3.0.8\n",
            "  Downloading spacy_legacy-3.0.8-py2.py3-none-any.whl (14 kB)\n",
            "Requirement already satisfied: wasabi<1.1.0,>=0.8.1 in /usr/local/lib/python3.7/dist-packages (from spacy) (0.8.2)\n",
            "Requirement already satisfied: blis<0.8.0,>=0.4.0 in /usr/local/lib/python3.7/dist-packages (from spacy) (0.4.1)\n",
            "Requirement already satisfied: zipp>=0.5 in /usr/local/lib/python3.7/dist-packages (from catalogue<2.1.0,>=2.0.6->spacy) (3.6.0)\n",
            "Requirement already satisfied: pyparsing>=2.0.2 in /usr/local/lib/python3.7/dist-packages (from packaging>=20.0->spacy) (2.4.7)\n",
            "Requirement already satisfied: smart-open<6.0.0,>=5.0.0 in /usr/local/lib/python3.7/dist-packages (from pathy>=0.3.5->spacy) (5.2.1)\n",
            "Requirement already satisfied: chardet<4,>=3.0.2 in /usr/local/lib/python3.7/dist-packages (from requests<3.0.0,>=2.13.0->spacy) (3.0.4)\n",
            "Requirement already satisfied: urllib3!=1.25.0,!=1.25.1,<1.26,>=1.21.1 in /usr/local/lib/python3.7/dist-packages (from requests<3.0.0,>=2.13.0->spacy) (1.24.3)\n",
            "Requirement already satisfied: idna<3,>=2.5 in /usr/local/lib/python3.7/dist-packages (from requests<3.0.0,>=2.13.0->spacy) (2.10)\n",
            "Requirement already satisfied: certifi>=2017.4.17 in /usr/local/lib/python3.7/dist-packages (from requests<3.0.0,>=2.13.0->spacy) (2021.5.30)\n",
            "Requirement already satisfied: click<9.0.0,>=7.1.1 in /usr/local/lib/python3.7/dist-packages (from typer<0.5.0,>=0.3.0->spacy) (7.1.2)\n",
            "Requirement already satisfied: MarkupSafe>=0.23 in /usr/local/lib/python3.7/dist-packages (from jinja2->spacy) (2.0.1)\n",
            "Installing collected packages: catalogue, typer, srsly, pydantic, thinc, spacy-legacy, pathy, spacy\n",
            "  Attempting uninstall: catalogue\n",
            "    Found existing installation: catalogue 1.0.0\n",
            "    Uninstalling catalogue-1.0.0:\n",
            "      Successfully uninstalled catalogue-1.0.0\n",
            "  Attempting uninstall: srsly\n",
            "    Found existing installation: srsly 1.0.5\n",
            "    Uninstalling srsly-1.0.5:\n",
            "      Successfully uninstalled srsly-1.0.5\n",
            "  Attempting uninstall: thinc\n",
            "    Found existing installation: thinc 7.4.0\n",
            "    Uninstalling thinc-7.4.0:\n",
            "      Successfully uninstalled thinc-7.4.0\n",
            "  Attempting uninstall: spacy\n",
            "    Found existing installation: spacy 2.2.4\n",
            "    Uninstalling spacy-2.2.4:\n",
            "      Successfully uninstalled spacy-2.2.4\n",
            "Successfully installed catalogue-2.0.6 pathy-0.6.0 pydantic-1.8.2 spacy-3.1.3 spacy-legacy-3.0.8 srsly-2.4.1 thinc-8.0.10 typer-0.4.0\n"
          ]
        }
      ]
    },
    {
      "cell_type": "code",
      "metadata": {
        "colab": {
          "base_uri": "https://localhost:8080/"
        },
        "id": "-CaLzswonN5F",
        "outputId": "79101703-0cb1-496e-e800-d2d26e7345eb"
      },
      "source": [
        "# installing spacy transformers\n",
        "!pip install spacy[transformers]"
      ],
      "execution_count": 11,
      "outputs": [
        {
          "output_type": "stream",
          "name": "stdout",
          "text": [
            "Requirement already satisfied: spacy[transformers] in /usr/local/lib/python3.7/dist-packages (3.1.3)\n",
            "Requirement already satisfied: spacy-legacy<3.1.0,>=3.0.8 in /usr/local/lib/python3.7/dist-packages (from spacy[transformers]) (3.0.8)\n",
            "Requirement already satisfied: pathy>=0.3.5 in /usr/local/lib/python3.7/dist-packages (from spacy[transformers]) (0.6.0)\n",
            "Requirement already satisfied: catalogue<2.1.0,>=2.0.6 in /usr/local/lib/python3.7/dist-packages (from spacy[transformers]) (2.0.6)\n",
            "Requirement already satisfied: setuptools in /usr/local/lib/python3.7/dist-packages (from spacy[transformers]) (57.4.0)\n",
            "Requirement already satisfied: preshed<3.1.0,>=3.0.2 in /usr/local/lib/python3.7/dist-packages (from spacy[transformers]) (3.0.5)\n",
            "Requirement already satisfied: typing-extensions<4.0.0.0,>=3.7.4 in /usr/local/lib/python3.7/dist-packages (from spacy[transformers]) (3.7.4.3)\n",
            "Requirement already satisfied: typer<0.5.0,>=0.3.0 in /usr/local/lib/python3.7/dist-packages (from spacy[transformers]) (0.4.0)\n",
            "Requirement already satisfied: srsly<3.0.0,>=2.4.1 in /usr/local/lib/python3.7/dist-packages (from spacy[transformers]) (2.4.1)\n",
            "Requirement already satisfied: pydantic!=1.8,!=1.8.1,<1.9.0,>=1.7.4 in /usr/local/lib/python3.7/dist-packages (from spacy[transformers]) (1.8.2)\n",
            "Requirement already satisfied: cymem<2.1.0,>=2.0.2 in /usr/local/lib/python3.7/dist-packages (from spacy[transformers]) (2.0.5)\n",
            "Requirement already satisfied: tqdm<5.0.0,>=4.38.0 in /usr/local/lib/python3.7/dist-packages (from spacy[transformers]) (4.62.3)\n",
            "Requirement already satisfied: wasabi<1.1.0,>=0.8.1 in /usr/local/lib/python3.7/dist-packages (from spacy[transformers]) (0.8.2)\n",
            "Requirement already satisfied: murmurhash<1.1.0,>=0.28.0 in /usr/local/lib/python3.7/dist-packages (from spacy[transformers]) (1.0.5)\n",
            "Requirement already satisfied: packaging>=20.0 in /usr/local/lib/python3.7/dist-packages (from spacy[transformers]) (21.0)\n",
            "Requirement already satisfied: requests<3.0.0,>=2.13.0 in /usr/local/lib/python3.7/dist-packages (from spacy[transformers]) (2.23.0)\n",
            "Requirement already satisfied: blis<0.8.0,>=0.4.0 in /usr/local/lib/python3.7/dist-packages (from spacy[transformers]) (0.4.1)\n",
            "Requirement already satisfied: numpy>=1.15.0 in /usr/local/lib/python3.7/dist-packages (from spacy[transformers]) (1.19.5)\n",
            "Requirement already satisfied: thinc<8.1.0,>=8.0.9 in /usr/local/lib/python3.7/dist-packages (from spacy[transformers]) (8.0.10)\n",
            "Requirement already satisfied: jinja2 in /usr/local/lib/python3.7/dist-packages (from spacy[transformers]) (2.11.3)\n",
            "Collecting spacy-transformers<1.1.0,>=1.0.1\n",
            "  Downloading spacy_transformers-1.0.6-py2.py3-none-any.whl (42 kB)\n",
            "\u001b[K     |████████████████████████████████| 42 kB 530 kB/s \n",
            "\u001b[?25hRequirement already satisfied: zipp>=0.5 in /usr/local/lib/python3.7/dist-packages (from catalogue<2.1.0,>=2.0.6->spacy[transformers]) (3.6.0)\n",
            "Requirement already satisfied: pyparsing>=2.0.2 in /usr/local/lib/python3.7/dist-packages (from packaging>=20.0->spacy[transformers]) (2.4.7)\n",
            "Requirement already satisfied: smart-open<6.0.0,>=5.0.0 in /usr/local/lib/python3.7/dist-packages (from pathy>=0.3.5->spacy[transformers]) (5.2.1)\n",
            "Requirement already satisfied: chardet<4,>=3.0.2 in /usr/local/lib/python3.7/dist-packages (from requests<3.0.0,>=2.13.0->spacy[transformers]) (3.0.4)\n",
            "Requirement already satisfied: certifi>=2017.4.17 in /usr/local/lib/python3.7/dist-packages (from requests<3.0.0,>=2.13.0->spacy[transformers]) (2021.5.30)\n",
            "Requirement already satisfied: idna<3,>=2.5 in /usr/local/lib/python3.7/dist-packages (from requests<3.0.0,>=2.13.0->spacy[transformers]) (2.10)\n",
            "Requirement already satisfied: urllib3!=1.25.0,!=1.25.1,<1.26,>=1.21.1 in /usr/local/lib/python3.7/dist-packages (from requests<3.0.0,>=2.13.0->spacy[transformers]) (1.24.3)\n",
            "Collecting spacy-alignments<1.0.0,>=0.7.2\n",
            "  Downloading spacy_alignments-0.8.3-cp37-cp37m-manylinux2014_x86_64.whl (998 kB)\n",
            "\u001b[K     |████████████████████████████████| 998 kB 8.5 MB/s \n",
            "\u001b[?25hCollecting transformers<4.10.0,>=3.4.0\n",
            "  Downloading transformers-4.9.2-py3-none-any.whl (2.6 MB)\n",
            "\u001b[K     |████████████████████████████████| 2.6 MB 63.8 MB/s \n",
            "\u001b[?25hRequirement already satisfied: torch>=1.5.0 in /usr/local/lib/python3.7/dist-packages (from spacy-transformers<1.1.0,>=1.0.1->spacy[transformers]) (1.9.0+cu111)\n",
            "Requirement already satisfied: regex!=2019.12.17 in /usr/local/lib/python3.7/dist-packages (from transformers<4.10.0,>=3.4.0->spacy-transformers<1.1.0,>=1.0.1->spacy[transformers]) (2019.12.20)\n",
            "Collecting tokenizers<0.11,>=0.10.1\n",
            "  Downloading tokenizers-0.10.3-cp37-cp37m-manylinux_2_5_x86_64.manylinux1_x86_64.manylinux_2_12_x86_64.manylinux2010_x86_64.whl (3.3 MB)\n",
            "\u001b[K     |████████████████████████████████| 3.3 MB 25.7 MB/s \n",
            "\u001b[?25hCollecting sacremoses\n",
            "  Downloading sacremoses-0.0.46-py3-none-any.whl (895 kB)\n",
            "\u001b[K     |████████████████████████████████| 895 kB 48.2 MB/s \n",
            "\u001b[?25hCollecting pyyaml>=5.1\n",
            "  Downloading PyYAML-6.0-cp37-cp37m-manylinux_2_5_x86_64.manylinux1_x86_64.manylinux_2_12_x86_64.manylinux2010_x86_64.whl (596 kB)\n",
            "\u001b[K     |████████████████████████████████| 596 kB 49.6 MB/s \n",
            "\u001b[?25hCollecting huggingface-hub==0.0.12\n",
            "  Downloading huggingface_hub-0.0.12-py3-none-any.whl (37 kB)\n",
            "Requirement already satisfied: filelock in /usr/local/lib/python3.7/dist-packages (from transformers<4.10.0,>=3.4.0->spacy-transformers<1.1.0,>=1.0.1->spacy[transformers]) (3.3.0)\n",
            "Requirement already satisfied: importlib-metadata in /usr/local/lib/python3.7/dist-packages (from transformers<4.10.0,>=3.4.0->spacy-transformers<1.1.0,>=1.0.1->spacy[transformers]) (4.8.1)\n",
            "Requirement already satisfied: click<9.0.0,>=7.1.1 in /usr/local/lib/python3.7/dist-packages (from typer<0.5.0,>=0.3.0->spacy[transformers]) (7.1.2)\n",
            "Requirement already satisfied: MarkupSafe>=0.23 in /usr/local/lib/python3.7/dist-packages (from jinja2->spacy[transformers]) (2.0.1)\n",
            "Requirement already satisfied: joblib in /usr/local/lib/python3.7/dist-packages (from sacremoses->transformers<4.10.0,>=3.4.0->spacy-transformers<1.1.0,>=1.0.1->spacy[transformers]) (1.0.1)\n",
            "Requirement already satisfied: six in /usr/local/lib/python3.7/dist-packages (from sacremoses->transformers<4.10.0,>=3.4.0->spacy-transformers<1.1.0,>=1.0.1->spacy[transformers]) (1.15.0)\n",
            "Installing collected packages: tokenizers, sacremoses, pyyaml, huggingface-hub, transformers, spacy-alignments, spacy-transformers\n",
            "  Attempting uninstall: pyyaml\n",
            "    Found existing installation: PyYAML 3.13\n",
            "    Uninstalling PyYAML-3.13:\n",
            "      Successfully uninstalled PyYAML-3.13\n",
            "Successfully installed huggingface-hub-0.0.12 pyyaml-6.0 sacremoses-0.0.46 spacy-alignments-0.8.3 spacy-transformers-1.0.6 tokenizers-0.10.3 transformers-4.9.2\n"
          ]
        }
      ]
    },
    {
      "cell_type": "code",
      "metadata": {
        "colab": {
          "base_uri": "https://localhost:8080/"
        },
        "id": "sRql9AJaOZAS",
        "outputId": "cffc1985-5152-4c76-f0c6-f247a88b018a"
      },
      "source": [
        "# installing en_core_web_trf\n",
        "!python -m spacy download en_core_web_trf"
      ],
      "execution_count": 13,
      "outputs": [
        {
          "output_type": "stream",
          "name": "stdout",
          "text": [
            "Collecting en-core-web-trf==3.1.0\n",
            "  Downloading https://github.com/explosion/spacy-models/releases/download/en_core_web_trf-3.1.0/en_core_web_trf-3.1.0-py3-none-any.whl (460.2 MB)\n",
            "\u001b[K     |████████████████████████████████| 460.2 MB 6.6 kB/s \n",
            "\u001b[?25hRequirement already satisfied: spacy<3.2.0,>=3.1.0 in /usr/local/lib/python3.7/dist-packages (from en-core-web-trf==3.1.0) (3.1.3)\n",
            "Requirement already satisfied: spacy-transformers<1.1.0,>=1.0.3 in /usr/local/lib/python3.7/dist-packages (from en-core-web-trf==3.1.0) (1.0.6)\n",
            "Requirement already satisfied: tqdm<5.0.0,>=4.38.0 in /usr/local/lib/python3.7/dist-packages (from spacy<3.2.0,>=3.1.0->en-core-web-trf==3.1.0) (4.62.3)\n",
            "Requirement already satisfied: pathy>=0.3.5 in /usr/local/lib/python3.7/dist-packages (from spacy<3.2.0,>=3.1.0->en-core-web-trf==3.1.0) (0.6.0)\n",
            "Requirement already satisfied: cymem<2.1.0,>=2.0.2 in /usr/local/lib/python3.7/dist-packages (from spacy<3.2.0,>=3.1.0->en-core-web-trf==3.1.0) (2.0.5)\n",
            "Requirement already satisfied: wasabi<1.1.0,>=0.8.1 in /usr/local/lib/python3.7/dist-packages (from spacy<3.2.0,>=3.1.0->en-core-web-trf==3.1.0) (0.8.2)\n",
            "Requirement already satisfied: jinja2 in /usr/local/lib/python3.7/dist-packages (from spacy<3.2.0,>=3.1.0->en-core-web-trf==3.1.0) (2.11.3)\n",
            "Requirement already satisfied: srsly<3.0.0,>=2.4.1 in /usr/local/lib/python3.7/dist-packages (from spacy<3.2.0,>=3.1.0->en-core-web-trf==3.1.0) (2.4.1)\n",
            "Requirement already satisfied: murmurhash<1.1.0,>=0.28.0 in /usr/local/lib/python3.7/dist-packages (from spacy<3.2.0,>=3.1.0->en-core-web-trf==3.1.0) (1.0.5)\n",
            "Requirement already satisfied: typer<0.5.0,>=0.3.0 in /usr/local/lib/python3.7/dist-packages (from spacy<3.2.0,>=3.1.0->en-core-web-trf==3.1.0) (0.4.0)\n",
            "Requirement already satisfied: catalogue<2.1.0,>=2.0.6 in /usr/local/lib/python3.7/dist-packages (from spacy<3.2.0,>=3.1.0->en-core-web-trf==3.1.0) (2.0.6)\n",
            "Requirement already satisfied: typing-extensions<4.0.0.0,>=3.7.4 in /usr/local/lib/python3.7/dist-packages (from spacy<3.2.0,>=3.1.0->en-core-web-trf==3.1.0) (3.7.4.3)\n",
            "Requirement already satisfied: packaging>=20.0 in /usr/local/lib/python3.7/dist-packages (from spacy<3.2.0,>=3.1.0->en-core-web-trf==3.1.0) (21.0)\n",
            "Requirement already satisfied: spacy-legacy<3.1.0,>=3.0.8 in /usr/local/lib/python3.7/dist-packages (from spacy<3.2.0,>=3.1.0->en-core-web-trf==3.1.0) (3.0.8)\n",
            "Requirement already satisfied: requests<3.0.0,>=2.13.0 in /usr/local/lib/python3.7/dist-packages (from spacy<3.2.0,>=3.1.0->en-core-web-trf==3.1.0) (2.23.0)\n",
            "Requirement already satisfied: preshed<3.1.0,>=3.0.2 in /usr/local/lib/python3.7/dist-packages (from spacy<3.2.0,>=3.1.0->en-core-web-trf==3.1.0) (3.0.5)\n",
            "Requirement already satisfied: pydantic!=1.8,!=1.8.1,<1.9.0,>=1.7.4 in /usr/local/lib/python3.7/dist-packages (from spacy<3.2.0,>=3.1.0->en-core-web-trf==3.1.0) (1.8.2)\n",
            "Requirement already satisfied: setuptools in /usr/local/lib/python3.7/dist-packages (from spacy<3.2.0,>=3.1.0->en-core-web-trf==3.1.0) (57.4.0)\n",
            "Requirement already satisfied: numpy>=1.15.0 in /usr/local/lib/python3.7/dist-packages (from spacy<3.2.0,>=3.1.0->en-core-web-trf==3.1.0) (1.19.5)\n",
            "Requirement already satisfied: blis<0.8.0,>=0.4.0 in /usr/local/lib/python3.7/dist-packages (from spacy<3.2.0,>=3.1.0->en-core-web-trf==3.1.0) (0.4.1)\n",
            "Requirement already satisfied: thinc<8.1.0,>=8.0.9 in /usr/local/lib/python3.7/dist-packages (from spacy<3.2.0,>=3.1.0->en-core-web-trf==3.1.0) (8.0.10)\n",
            "Requirement already satisfied: zipp>=0.5 in /usr/local/lib/python3.7/dist-packages (from catalogue<2.1.0,>=2.0.6->spacy<3.2.0,>=3.1.0->en-core-web-trf==3.1.0) (3.6.0)\n",
            "Requirement already satisfied: pyparsing>=2.0.2 in /usr/local/lib/python3.7/dist-packages (from packaging>=20.0->spacy<3.2.0,>=3.1.0->en-core-web-trf==3.1.0) (2.4.7)\n",
            "Requirement already satisfied: smart-open<6.0.0,>=5.0.0 in /usr/local/lib/python3.7/dist-packages (from pathy>=0.3.5->spacy<3.2.0,>=3.1.0->en-core-web-trf==3.1.0) (5.2.1)\n",
            "Requirement already satisfied: certifi>=2017.4.17 in /usr/local/lib/python3.7/dist-packages (from requests<3.0.0,>=2.13.0->spacy<3.2.0,>=3.1.0->en-core-web-trf==3.1.0) (2021.5.30)\n",
            "Requirement already satisfied: urllib3!=1.25.0,!=1.25.1,<1.26,>=1.21.1 in /usr/local/lib/python3.7/dist-packages (from requests<3.0.0,>=2.13.0->spacy<3.2.0,>=3.1.0->en-core-web-trf==3.1.0) (1.24.3)\n",
            "Requirement already satisfied: idna<3,>=2.5 in /usr/local/lib/python3.7/dist-packages (from requests<3.0.0,>=2.13.0->spacy<3.2.0,>=3.1.0->en-core-web-trf==3.1.0) (2.10)\n",
            "Requirement already satisfied: chardet<4,>=3.0.2 in /usr/local/lib/python3.7/dist-packages (from requests<3.0.0,>=2.13.0->spacy<3.2.0,>=3.1.0->en-core-web-trf==3.1.0) (3.0.4)\n",
            "Requirement already satisfied: torch>=1.5.0 in /usr/local/lib/python3.7/dist-packages (from spacy-transformers<1.1.0,>=1.0.3->en-core-web-trf==3.1.0) (1.9.0+cu111)\n",
            "Requirement already satisfied: spacy-alignments<1.0.0,>=0.7.2 in /usr/local/lib/python3.7/dist-packages (from spacy-transformers<1.1.0,>=1.0.3->en-core-web-trf==3.1.0) (0.8.3)\n",
            "Requirement already satisfied: transformers<4.10.0,>=3.4.0 in /usr/local/lib/python3.7/dist-packages (from spacy-transformers<1.1.0,>=1.0.3->en-core-web-trf==3.1.0) (4.9.2)\n",
            "Requirement already satisfied: filelock in /usr/local/lib/python3.7/dist-packages (from transformers<4.10.0,>=3.4.0->spacy-transformers<1.1.0,>=1.0.3->en-core-web-trf==3.1.0) (3.3.0)\n",
            "Requirement already satisfied: huggingface-hub==0.0.12 in /usr/local/lib/python3.7/dist-packages (from transformers<4.10.0,>=3.4.0->spacy-transformers<1.1.0,>=1.0.3->en-core-web-trf==3.1.0) (0.0.12)\n",
            "Requirement already satisfied: regex!=2019.12.17 in /usr/local/lib/python3.7/dist-packages (from transformers<4.10.0,>=3.4.0->spacy-transformers<1.1.0,>=1.0.3->en-core-web-trf==3.1.0) (2019.12.20)\n",
            "Requirement already satisfied: pyyaml>=5.1 in /usr/local/lib/python3.7/dist-packages (from transformers<4.10.0,>=3.4.0->spacy-transformers<1.1.0,>=1.0.3->en-core-web-trf==3.1.0) (6.0)\n",
            "Requirement already satisfied: importlib-metadata in /usr/local/lib/python3.7/dist-packages (from transformers<4.10.0,>=3.4.0->spacy-transformers<1.1.0,>=1.0.3->en-core-web-trf==3.1.0) (4.8.1)\n",
            "Requirement already satisfied: sacremoses in /usr/local/lib/python3.7/dist-packages (from transformers<4.10.0,>=3.4.0->spacy-transformers<1.1.0,>=1.0.3->en-core-web-trf==3.1.0) (0.0.46)\n",
            "Requirement already satisfied: tokenizers<0.11,>=0.10.1 in /usr/local/lib/python3.7/dist-packages (from transformers<4.10.0,>=3.4.0->spacy-transformers<1.1.0,>=1.0.3->en-core-web-trf==3.1.0) (0.10.3)\n",
            "Requirement already satisfied: click<9.0.0,>=7.1.1 in /usr/local/lib/python3.7/dist-packages (from typer<0.5.0,>=0.3.0->spacy<3.2.0,>=3.1.0->en-core-web-trf==3.1.0) (7.1.2)\n",
            "Requirement already satisfied: MarkupSafe>=0.23 in /usr/local/lib/python3.7/dist-packages (from jinja2->spacy<3.2.0,>=3.1.0->en-core-web-trf==3.1.0) (2.0.1)\n",
            "Requirement already satisfied: joblib in /usr/local/lib/python3.7/dist-packages (from sacremoses->transformers<4.10.0,>=3.4.0->spacy-transformers<1.1.0,>=1.0.3->en-core-web-trf==3.1.0) (1.0.1)\n",
            "Requirement already satisfied: six in /usr/local/lib/python3.7/dist-packages (from sacremoses->transformers<4.10.0,>=3.4.0->spacy-transformers<1.1.0,>=1.0.3->en-core-web-trf==3.1.0) (1.15.0)\n",
            "Installing collected packages: en-core-web-trf\n",
            "Successfully installed en-core-web-trf-3.1.0\n",
            "\u001b[38;5;2m✔ Download and installation successful\u001b[0m\n",
            "You can now load the package via spacy.load('en_core_web_trf')\n"
          ]
        }
      ]
    },
    {
      "cell_type": "code",
      "metadata": {
        "colab": {
          "base_uri": "https://localhost:8080/"
        },
        "id": "QcU4t0h6nSzK",
        "outputId": "078eeaaa-6874-49ef-a0b9-8df6ad024983"
      },
      "source": [
        "!python -m spacy info"
      ],
      "execution_count": 14,
      "outputs": [
        {
          "output_type": "stream",
          "name": "stdout",
          "text": [
            "\u001b[1m\n",
            "============================== Info about spaCy ==============================\u001b[0m\n",
            "\n",
            "spaCy version    3.1.3                         \n",
            "Location         /usr/local/lib/python3.7/dist-packages/spacy\n",
            "Platform         Linux-5.4.104+-x86_64-with-Ubuntu-18.04-bionic\n",
            "Python version   3.7.12                        \n",
            "Pipelines        en_core_web_trf (3.1.0)       \n",
            "\n"
          ]
        }
      ]
    },
    {
      "cell_type": "code",
      "metadata": {
        "colab": {
          "base_uri": "https://localhost:8080/",
          "height": 497
        },
        "id": "v0v2qEBUOgaW",
        "outputId": "e45a545b-9b3e-41c7-c24c-18ec38432613"
      },
      "source": [
        "# installing torch an complementries to run with cpu\n",
        "pip install torch==1.7.1+cpu torchvision==0.8.2+cpu torchaudio==0.7.2 -f https://download.pytorch.org/whl/torch_stable.html"
      ],
      "execution_count": null,
      "outputs": [
        {
          "output_type": "stream",
          "text": [
            "Looking in links: https://download.pytorch.org/whl/torch_stable.html\n",
            "Collecting torch==1.7.1+cpu\n",
            "\u001b[?25l  Downloading https://download.pytorch.org/whl/cpu/torch-1.7.1%2Bcpu-cp37-cp37m-linux_x86_64.whl (159.4MB)\n",
            "\u001b[K     |████████████████████████████████| 159.4MB 37kB/s \n",
            "\u001b[?25hCollecting torchvision==0.8.2+cpu\n",
            "\u001b[?25l  Downloading https://download.pytorch.org/whl/cpu/torchvision-0.8.2%2Bcpu-cp37-cp37m-linux_x86_64.whl (11.8MB)\n",
            "\u001b[K     |████████████████████████████████| 11.8MB 45.4MB/s \n",
            "\u001b[?25hCollecting torchaudio==0.7.2\n",
            "\u001b[?25l  Downloading https://files.pythonhosted.org/packages/37/16/ecdb9eb09ec6b8133d6c9536ea9e49cd13c9b5873c8488b8b765a39028da/torchaudio-0.7.2-cp37-cp37m-manylinux1_x86_64.whl (7.6MB)\n",
            "\u001b[K     |████████████████████████████████| 7.6MB 3.7MB/s \n",
            "\u001b[?25hRequirement already satisfied: typing-extensions in /usr/local/lib/python3.7/dist-packages (from torch==1.7.1+cpu) (3.7.4.3)\n",
            "Requirement already satisfied: numpy in /usr/local/lib/python3.7/dist-packages (from torch==1.7.1+cpu) (1.19.5)\n",
            "Requirement already satisfied: pillow>=4.1.1 in /usr/local/lib/python3.7/dist-packages (from torchvision==0.8.2+cpu) (7.1.2)\n",
            "\u001b[31mERROR: torchtext 0.10.0 has requirement torch==1.9.0, but you'll have torch 1.7.1+cpu which is incompatible.\u001b[0m\n",
            "Installing collected packages: torch, torchvision, torchaudio\n",
            "  Found existing installation: torch 1.9.0+cu102\n",
            "    Uninstalling torch-1.9.0+cu102:\n",
            "      Successfully uninstalled torch-1.9.0+cu102\n",
            "  Found existing installation: torchvision 0.10.0+cu102\n",
            "    Uninstalling torchvision-0.10.0+cu102:\n",
            "      Successfully uninstalled torchvision-0.10.0+cu102\n",
            "Successfully installed torch-1.7.1+cpu torchaudio-0.7.2 torchvision-0.8.2+cpu\n"
          ],
          "name": "stdout"
        },
        {
          "output_type": "display_data",
          "data": {
            "application/vnd.colab-display-data+json": {
              "pip_warning": {
                "packages": [
                  "torch"
                ]
              }
            }
          },
          "metadata": {
            "tags": []
          }
        }
      ]
    },
    {
      "cell_type": "code",
      "metadata": {
        "id": "y4iNyNVjO4IX"
      },
      "source": [
        ""
      ],
      "execution_count": 14,
      "outputs": []
    },
    {
      "cell_type": "code",
      "metadata": {
        "colab": {
          "base_uri": "https://localhost:8080/"
        },
        "id": "lMdZgIWrP94d",
        "outputId": "2d3390f5-6497-4848-ae47-a64db1ca2ec9"
      },
      "source": [
        "# converting spacy base_config file into config file. Spacy automaticaaly adds few configurations and create a config.cfg file to be used while training.\n",
        "!python -m spacy init fill-config /content/gdrive/My\\ Drive/base_config.cfg /content/gdrive/My\\ Drive/config.cfg"
      ],
      "execution_count": null,
      "outputs": [
        {
          "output_type": "stream",
          "text": [
            "2021-07-08 14:06:23.498679: I tensorflow/stream_executor/platform/default/dso_loader.cc:53] Successfully opened dynamic library libcudart.so.11.0\n",
            "\u001b[38;5;2m✔ Auto-filled config with all values\u001b[0m\n",
            "\u001b[38;5;2m✔ Saved config\u001b[0m\n",
            "/content/gdrive/My Drive/config.cfg\n",
            "You can now add your data and train your pipeline:\n",
            "python -m spacy train config.cfg --paths.train ./train.spacy --paths.dev ./dev.spacy\n"
          ],
          "name": "stdout"
        }
      ]
    },
    {
      "cell_type": "code",
      "metadata": {
        "id": "DC8useNVZMd8"
      },
      "source": [
        ""
      ],
      "execution_count": 14,
      "outputs": []
    },
    {
      "cell_type": "code",
      "metadata": {
        "colab": {
          "base_uri": "https://localhost:8080/"
        },
        "id": "Fc3n-MJ6adWZ",
        "outputId": "5db83254-c551-46a1-8c58-358aefc0f512"
      },
      "source": [
        "# checking quality of data.\n",
        "!python -m spacy debug data /content/gdrive/My\\ Drive/config.cfg"
      ],
      "execution_count": null,
      "outputs": [
        {
          "output_type": "stream",
          "text": [
            "2021-07-08 14:06:44.378170: I tensorflow/stream_executor/platform/default/dso_loader.cc:53] Successfully opened dynamic library libcudart.so.11.0\n",
            "\u001b[1m\n",
            "============================ Data file validation ============================\u001b[0m\n",
            "\u001b[38;5;2m✔ Corpus is loadable\u001b[0m\n",
            "Downloading: 100% 481/481 [00:00<00:00, 419kB/s]\n",
            "Downloading: 100% 899k/899k [00:00<00:00, 3.61MB/s]\n",
            "Downloading: 100% 456k/456k [00:00<00:00, 2.64MB/s]\n",
            "Downloading: 100% 1.36M/1.36M [00:00<00:00, 4.17MB/s]\n",
            "Downloading: 100% 501M/501M [00:07<00:00, 68.6MB/s]\n",
            "Some weights of the model checkpoint at roberta-base were not used when initializing RobertaModel: ['lm_head.layer_norm.bias', 'lm_head.dense.weight', 'lm_head.layer_norm.weight', 'lm_head.decoder.weight', 'lm_head.dense.bias', 'lm_head.bias']\n",
            "- This IS expected if you are initializing RobertaModel from the checkpoint of a model trained on another task or with another architecture (e.g. initializing a BertForSequenceClassification model from a BertForPreTraining model).\n",
            "- This IS NOT expected if you are initializing RobertaModel from the checkpoint of a model that you expect to be exactly identical (initializing a BertForSequenceClassification model from a BertForSequenceClassification model).\n",
            "\u001b[38;5;2m✔ Pipeline can be initialized with data\u001b[0m\n",
            "\u001b[1m\n",
            "=============================== Training stats ===============================\u001b[0m\n",
            "Language: en\n",
            "Training pipeline: transformer, ner\n",
            "100 training docs\n",
            "36 evaluation docs\n",
            "\u001b[38;5;2m✔ No overlap between training and evaluation data\u001b[0m\n",
            "\u001b[38;5;3m⚠ Low number of examples to train a new pipeline (100)\u001b[0m\n",
            "\u001b[1m\n",
            "============================== Vocab & Vectors ==============================\u001b[0m\n",
            "\u001b[38;5;4mℹ 34283 total word(s) in the data (3656 unique)\u001b[0m\n",
            "\u001b[38;5;4mℹ No word vectors present in the package\u001b[0m\n",
            "\u001b[1m\n",
            "========================== Named Entity Recognition ==========================\u001b[0m\n",
            "\u001b[38;5;4mℹ 12 label(s)\u001b[0m\n",
            "0 missing value(s) (tokens with '-' label)\n",
            "\u001b[38;5;3m⚠ Low number of examples for label 'WORK_EXPERIENCE' (13)\u001b[0m\n",
            "huggingface/tokenizers: The current process just got forked, after parallelism has already been used. Disabling parallelism to avoid deadlocks...\n",
            "To disable this warning, you can either:\n",
            "\t- Avoid using `tokenizers` before the fork if possible\n",
            "\t- Explicitly set the environment variable TOKENIZERS_PARALLELISM=(true | false)\n",
            "\u001b[2K\u001b[38;5;3m⚠ Low number of examples for label 'SKILL_EXPERIENCE' (6)\u001b[0m\n",
            "huggingface/tokenizers: The current process just got forked, after parallelism has already been used. Disabling parallelism to avoid deadlocks...\n",
            "To disable this warning, you can either:\n",
            "\t- Avoid using `tokenizers` before the fork if possible\n",
            "\t- Explicitly set the environment variable TOKENIZERS_PARALLELISM=(true | false)\n",
            "\u001b[2K\u001b[38;5;3m⚠ Low number of examples for label 'JOB_ROLE' (26)\u001b[0m\n",
            "huggingface/tokenizers: The current process just got forked, after parallelism has already been used. Disabling parallelism to avoid deadlocks...\n",
            "To disable this warning, you can either:\n",
            "\t- Avoid using `tokenizers` before the fork if possible\n",
            "\t- Explicitly set the environment variable TOKENIZERS_PARALLELISM=(true | false)\n",
            "\u001b[2K\u001b[38;5;3m⚠ Low number of examples for label 'PASSOUT_YEAR' (9)\u001b[0m\n",
            "huggingface/tokenizers: The current process just got forked, after parallelism has already been used. Disabling parallelism to avoid deadlocks...\n",
            "To disable this warning, you can either:\n",
            "\t- Avoid using `tokenizers` before the fork if possible\n",
            "\t- Explicitly set the environment variable TOKENIZERS_PARALLELISM=(true | false)\n",
            "\u001b[2K\u001b[38;5;3m⚠ Low number of examples for label 'SALARY' (10)\u001b[0m\n",
            "huggingface/tokenizers: The current process just got forked, after parallelism has already been used. Disabling parallelism to avoid deadlocks...\n",
            "To disable this warning, you can either:\n",
            "\t- Avoid using `tokenizers` before the fork if possible\n",
            "\t- Explicitly set the environment variable TOKENIZERS_PARALLELISM=(true | false)\n",
            "\u001b[2K\u001b[38;5;2m✔ Examples without occurrences available for all labels\u001b[0m\n",
            "\u001b[38;5;2m✔ No entities consisting of or starting/ending with whitespace\u001b[0m\n",
            "\u001b[38;5;2m✔ No entities consisting of or starting/ending with punctuation\u001b[0m\n",
            "\u001b[1m\n",
            "================================== Summary ==================================\u001b[0m\n",
            "\u001b[38;5;2m✔ 6 checks passed\u001b[0m\n",
            "\u001b[38;5;3m⚠ 6 warnings\u001b[0m\n"
          ],
          "name": "stdout"
        }
      ]
    },
    {
      "cell_type": "code",
      "metadata": {
        "id": "3EXZKZhtoXaO"
      },
      "source": [
        "# getting warning because of small amount of data.\n",
        "# because of limited resources could not annotate much data."
      ],
      "execution_count": null,
      "outputs": []
    },
    {
      "cell_type": "code",
      "metadata": {
        "colab": {
          "base_uri": "https://localhost:8080/"
        },
        "id": "MDZrUyhqbygF",
        "outputId": "633a89cd-9a50-4b32-92f9-91aa56ca7091"
      },
      "source": [
        "# training data using spacy config file. Different parameters for transformers are chosen and best model is saved \n",
        "!python -m spacy train -g 0 /content/gdrive/My\\ Drive/config.cfg --output ./"
      ],
      "execution_count": null,
      "outputs": [
        {
          "output_type": "stream",
          "text": [
            "2021-07-08 14:08:32.797673: I tensorflow/stream_executor/platform/default/dso_loader.cc:53] Successfully opened dynamic library libcudart.so.11.0\n",
            "\u001b[38;5;4mℹ Using GPU: 0\u001b[0m\n",
            "\u001b[1m\n",
            "=========================== Initializing pipeline ===========================\u001b[0m\n",
            "[2021-07-08 14:08:35,163] [INFO] Set up nlp object from config\n",
            "[2021-07-08 14:08:35,173] [INFO] Pipeline: ['transformer', 'ner']\n",
            "[2021-07-08 14:08:35,177] [INFO] Created vocabulary\n",
            "[2021-07-08 14:08:35,178] [INFO] Finished initializing nlp object\n",
            "Some weights of the model checkpoint at roberta-base were not used when initializing RobertaModel: ['lm_head.dense.weight', 'lm_head.dense.bias', 'lm_head.layer_norm.weight', 'lm_head.decoder.weight', 'lm_head.layer_norm.bias', 'lm_head.bias']\n",
            "- This IS expected if you are initializing RobertaModel from the checkpoint of a model trained on another task or with another architecture (e.g. initializing a BertForSequenceClassification model from a BertForPreTraining model).\n",
            "- This IS NOT expected if you are initializing RobertaModel from the checkpoint of a model that you expect to be exactly identical (initializing a BertForSequenceClassification model from a BertForSequenceClassification model).\n",
            "[2021-07-08 14:08:49,567] [INFO] Initialized pipeline components: ['transformer', 'ner']\n",
            "\u001b[38;5;2m✔ Initialized pipeline\u001b[0m\n",
            "\u001b[1m\n",
            "============================= Training pipeline =============================\u001b[0m\n",
            "\u001b[38;5;4mℹ Pipeline: ['transformer', 'ner']\u001b[0m\n",
            "\u001b[38;5;4mℹ Initial learn rate: 0.0\u001b[0m\n",
            "E    #       LOSS TRANS...  LOSS NER  ENTS_F  ENTS_P  ENTS_R  SCORE \n",
            "---  ------  -------------  --------  ------  ------  ------  ------\n",
            "  0       0         991.14   1867.44    0.14    0.08    1.14    0.00\n",
            "  9     200      384568.73  94410.00   39.35   45.82   34.48    0.39\n",
            " 19     400      157420.50  24379.78   66.76   63.72   70.10    0.67\n",
            " 28     600       98062.92  14607.67   67.17   64.35   70.24    0.67\n",
            " 38     800       17658.94   7627.60   63.69   56.25   73.39    0.64\n",
            " 47    1000       25682.56   4368.31   66.11   60.14   73.39    0.66\n",
            " 57    1200       12814.40   3306.38   65.85   63.12   68.81    0.66\n",
            " 66    1400        8644.14   2851.43   65.40   57.33   76.11    0.65\n",
            " 76    1600       15312.92   2822.16   66.37   59.82   74.54    0.66\n",
            " 85    1800       10403.33   2491.69   65.35   58.81   73.53    0.65\n",
            " 95    2000        3990.70   2258.79   65.76   60.24   72.39    0.66\n",
            "104    2200       20272.92   2676.36   66.54   59.20   75.97    0.67\n",
            "\u001b[38;5;2m✔ Saved pipeline to output directory\u001b[0m\n",
            "model-last\n"
          ],
          "name": "stdout"
        }
      ]
    },
    {
      "cell_type": "code",
      "metadata": {
        "id": "qxD5_4lyctMQ"
      },
      "source": [
        "# running 2 test cases. Job descriptions taken from linkedin. The model is able to recognise entities to much extent but falls short in recognising numerical data\n",
        "# like salary and experience because of less data samples."
      ],
      "execution_count": 14,
      "outputs": []
    },
    {
      "cell_type": "code",
      "metadata": {
        "colab": {
          "base_uri": "https://localhost:8080/"
        },
        "id": "eXZAjqpvmc5D",
        "outputId": "5f3ba36c-8b3a-4430-aa06-0d3a0319aada"
      },
      "source": [
        "import spacy \n",
        "\n",
        "\n",
        "data = '''The Role Expectation:\n",
        "\n",
        "You will play a significant role in the development of the core product, working directly with the senior engineers and solve real world problems.\n",
        "You will be exposed to the overall design, architecture and development of the application\n",
        "\n",
        "You will learn and experience some of the best practises of the Agile & TDD.\n",
        "\n",
        "You will collaborate with the rest of the engineering team to design, prioritise and launch new features.\n",
        "\n",
        "You will bring in a passion for technology and hunger to learn\n",
        "\n",
        "Required:\n",
        "\n",
        "Working knowledge of Python, hands-on project experience in using Django/Flask etc. \n",
        "Understanding of design patterns and application design\n",
        "Working knowledge of database architectures like NoSQL, RDBMS. Eg: MongoDB/ Cassandra / Couchbase / MySQL\n",
        "Understanding of message queueing mechanisms like Redis /RabbitMQ (or similar)\n",
        "Good to have:\n",
        "\n",
        "Knowledge of python web crawling frameworks like Scrapy\n",
        "Knowledge  of Git for source code management\n",
        "Experience in Linux CLI\n",
        "Knowledge of Agile practices\n",
        "\n",
        "Desired Candidate Profile:\n",
        "\n",
        "You should possess the aptitude to take up any task, investigate\n",
        "independently and come up with multiple solutions highlighting the pros and cons for each.\n",
        "You need to have a healthy start-up attitude.\n",
        "You Believe-in & will align with our Business Objectives\n",
        "\n",
        "Customer Obsession - Consistently listen to customers; test, enhance and improve the customer experience.\n",
        "Breakthrough Simplicity - An innovative approach to make everything simpler\n",
        "Diving Deep -Technique used to arrive at a solution-based approach to problem solving and idea creation\n",
        "Drive for Results - Focus on end result of any task\n",
        "Encourage and Improve - Encouraging and promoting team work and focus on continuous self-development at every stage.\n",
        "Be Ethical and Respectful - Willingness to do the right thing – even if it is hard; courteousness and being focused on the best in others.\n",
        "\n",
        "'''\n",
        "#data = '''machine learning, is good subject but belongs to computer science.'''\n",
        "nlp = spacy.load(\"/content/gdrive/My Drive/model-best\")\n",
        "#print(nlp.pipe_names)\n",
        "doc = nlp(data)\n",
        "\n",
        "#print(nlp.make_doc(data))\n",
        "#print(data)\n",
        "#print()\n",
        "print(len(doc.ents))\n",
        "\n",
        "for ent in doc.ents:\n",
        "    print(ent.text,\" : \",ent.label_)\n",
        "\n"
      ],
      "execution_count": null,
      "outputs": [
        {
          "output_type": "stream",
          "text": [
            "22\n",
            "development  :  TECH_SKILL\n",
            "development  :  TECH_SKILL\n",
            "Python  :  TECH_SKILL\n",
            "Django  :  TECH_SKILL\n",
            "Flask  :  TECH_SKILL\n",
            "database architectures  :  TECH_SKILL\n",
            "NoSQL  :  TECH_SKILL\n",
            "RDBMS  :  TECH_SKILL\n",
            "MongoDB/  :  TECH_SKILL\n",
            "Cassandra  :  TECH_SKILL\n",
            "Couchbase  :  TECH_SKILL\n",
            "MySQL  :  TECH_SKILL\n",
            "message queueing mechanisms  :  TECH_SKILL\n",
            "Redis  :  TECH_SKILL\n",
            "/RabbitMQ  :  TECH_SKILL\n",
            "python  :  TECH_SKILL\n",
            "web crawling  :  TECH_SKILL\n",
            "Scrapy  :  TECH_SKILL\n",
            "Git  :  TECH_SKILL\n",
            "Linux CLI  :  TECH_SKILL\n",
            "problem solving  :  SOFT_SKILL\n",
            "–  :  PASSOUT_YEAR\n"
          ],
          "name": "stdout"
        }
      ]
    },
    {
      "cell_type": "code",
      "metadata": {
        "id": "6LTMItXe4BZ9",
        "colab": {
          "base_uri": "https://localhost:8080/"
        },
        "outputId": "2306deb3-7533-48bc-e71c-966556a51354"
      },
      "source": [
        "import spacy\n",
        "\n",
        "#nlp = spacy.blank(\"en\")\n",
        "\n",
        "nlp = spacy.load(\"/content/gdrive/My Drive/model-best\")\n",
        "\n",
        "\n",
        "data = '''\n",
        "\n",
        "The Role Expectation:\n",
        "\n",
        "You will play a significant role in the development of the core product, working directly with the senior engineers and solve real world problems.\n",
        "You will be exposed to the overall design, architecture and development of the application\n",
        "\n",
        "You will learn and experience some of the best practises of the Agile & TDD.\n",
        "\n",
        "You will collaborate with the rest of the engineering team to design, prioritise and launch new features.\n",
        "\n",
        "You will bring in a passion for technology and hunger to learn\n",
        "\n",
        "Required:\n",
        "\n",
        "Working knowledge of Python, hands-on project experience in using Django/Flask etc. \n",
        "Understanding of design patterns and application design\n",
        "Working knowledge of database architectures like NoSQL, RDBMS. Eg: MongoDB/ Cassandra / Couchbase / MySQL\n",
        "Understanding of message queueing mechanisms like Redis /RabbitMQ (or similar)\n",
        "Good to have:\n",
        "\n",
        "Knowledge of python web crawling frameworks like Scrapy\n",
        "Knowledge  of Git for source code management\n",
        "Experience in Linux CLI\n",
        "Knowledge of Agile practices\n",
        "\n",
        "Desired Candidate Profile:\n",
        "\n",
        "You should possess the aptitude to take up any task, investigate\n",
        "independently and come up with multiple solutions highlighting the pros and cons for each.\n",
        "You need to have a healthy start-up attitude.\n",
        "You Believe-in & will align with our Business Objectives\n",
        "\n",
        "Customer Obsession - Consistently listen to customers; test, enhance and improve the customer experience.\n",
        "Breakthrough Simplicity - An innovative approach to make everything simpler\n",
        "Diving Deep -Technique used to arrive at a solution-based approach to problem solving and idea creation\n",
        "Drive for Results - Focus on end result of any task\n",
        "Encourage and Improve - Encouraging and promoting team work and focus on continuous self-development at every stage.\n",
        "Be Ethical and Respectful - Willingness to do the right thing – even if it is hard; courteousness and being focused on the best in others.\n",
        "\n",
        "'''\n",
        "\n",
        "\n",
        "#print(\"SSSSSSSSSSSSSSSSSSSSSSSSSSSSSSSSSSSSSSSSSSSSSSSSSSSSSSSSSSSSSSSSSSSSSSSSSSSSSSSS             **********************\")\n",
        "print(nlp.pipe_names)\n",
        "doc = nlp(data)\n",
        "\n",
        "#print(nlp.make_doc(data))\n",
        "#print(data)\n",
        "#print()\n",
        "print(len(doc.ents))\n",
        "\n",
        "for ent in doc.ents:\n",
        "    print(ent.text,\" : \",ent.label_)\n"
      ],
      "execution_count": null,
      "outputs": [
        {
          "output_type": "stream",
          "text": [
            "['transformer', 'ner']\n",
            "22\n",
            "development  :  TECH_SKILL\n",
            "development  :  TECH_SKILL\n",
            "Python  :  TECH_SKILL\n",
            "Django  :  TECH_SKILL\n",
            "Flask  :  TECH_SKILL\n",
            "database architectures  :  TECH_SKILL\n",
            "NoSQL  :  TECH_SKILL\n",
            "RDBMS  :  TECH_SKILL\n",
            "MongoDB/  :  TECH_SKILL\n",
            "Cassandra  :  TECH_SKILL\n",
            "Couchbase  :  TECH_SKILL\n",
            "MySQL  :  TECH_SKILL\n",
            "message queueing mechanisms  :  TECH_SKILL\n",
            "Redis  :  TECH_SKILL\n",
            "/RabbitMQ  :  TECH_SKILL\n",
            "python  :  TECH_SKILL\n",
            "web crawling  :  TECH_SKILL\n",
            "Scrapy  :  TECH_SKILL\n",
            "Git  :  TECH_SKILL\n",
            "Linux CLI  :  TECH_SKILL\n",
            "problem solving  :  SOFT_SKILL\n",
            "–  :  PASSOUT_YEAR\n"
          ],
          "name": "stdout"
        }
      ]
    },
    {
      "cell_type": "code",
      "metadata": {
        "id": "93fQWDZ_sZ_d"
      },
      "source": [
        ""
      ],
      "execution_count": null,
      "outputs": []
    }
  ]
}